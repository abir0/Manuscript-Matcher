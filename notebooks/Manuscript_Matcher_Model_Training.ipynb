{
  "nbformat": 4,
  "nbformat_minor": 0,
  "metadata": {
    "colab": {
      "provenance": []
    },
    "kernelspec": {
      "name": "python3",
      "display_name": "Python 3"
    },
    "language_info": {
      "name": "python"
    }
  },
  "cells": [
    {
      "cell_type": "markdown",
      "source": [
        "### Setting Up"
      ],
      "metadata": {
        "id": "4LqG_dN9GBYC"
      }
    },
    {
      "cell_type": "code",
      "source": [
        "!nvidia-smi"
      ],
      "metadata": {
        "id": "edcpBetbCDGA"
      },
      "execution_count": null,
      "outputs": []
    },
    {
      "cell_type": "code",
      "source": [
        "%reload_ext autoreload\n",
        "%autoreload 2\n",
        "%matplotlib inline"
      ],
      "metadata": {
        "id": "_cExHjY4CKwD"
      },
      "execution_count": null,
      "outputs": []
    },
    {
      "cell_type": "code",
      "source": [
        "!pip install -q torch transformers[sentencepiece] fastbook fastai ohmeow-blurr nbdev"
      ],
      "metadata": {
        "id": "uXWSGI6gCbXD"
      },
      "execution_count": null,
      "outputs": []
    },
    {
      "cell_type": "code",
      "source": [
        "import torch\n",
        "from transformers import AutoModelForSequenceClassification, AutoConfig\n",
        "from fastai.text.all import *\n",
        "from blurr.text.data.all import *\n",
        "from blurr.text.modeling.all import *"
      ],
      "metadata": {
        "id": "asVpledMCgiS"
      },
      "execution_count": null,
      "outputs": []
    },
    {
      "cell_type": "code",
      "source": [
        "from google.colab import drive\n",
        "drive.mount('/content/drive')"
      ],
      "metadata": {
        "id": "P0YDHcgGClMp"
      },
      "execution_count": null,
      "outputs": []
    },
    {
      "cell_type": "code",
      "source": [
        "%cd /content/drive/MyDrive/Manuscript-Matcher"
      ],
      "metadata": {
        "id": "D0ou8_yUCoXZ"
      },
      "execution_count": null,
      "outputs": []
    },
    {
      "cell_type": "markdown",
      "source": [
        "# Data Labelling"
      ],
      "metadata": {
        "id": "HbnBTOuhCwTA"
      }
    },
    {
      "cell_type": "code",
      "source": [
        "df = pd.read_csv('/content/drive/MyDrive/Manuscript-Matcher/data.csv')"
      ],
      "metadata": {
        "id": "u5Z9kZ3M-ufj"
      },
      "execution_count": null,
      "outputs": []
    },
    {
      "cell_type": "code",
      "source": [
        "asjc_df = pd.read_csv('/content/drive/MyDrive/Manuscript-Matcher/asjc_codes.csv')\n",
        "asjc_df = asjc_df[['Code', 'ASJC category']]"
      ],
      "metadata": {
        "id": "-ErImMQltHq5"
      },
      "execution_count": null,
      "outputs": []
    },
    {
      "cell_type": "code",
      "source": [
        "code2cat = dict(zip(asjc_df['Code'], asjc_df['ASJC category']))\n",
        "cat2code = dict(zip(asjc_df['ASJC category'], asjc_df['Code']))"
      ],
      "metadata": {
        "id": "vhPcI_9Jtao1"
      },
      "execution_count": null,
      "outputs": []
    },
    {
      "cell_type": "code",
      "source": [
        "def count_values(lst):\n",
        "    counts = {}\n",
        "    for sublist in lst:\n",
        "        for item in sublist:\n",
        "            if item in counts:\n",
        "                counts[item] += 1\n",
        "            else:\n",
        "                counts[item] = 1\n",
        "    return counts"
      ],
      "metadata": {
        "id": "RQDIe3KX4qB7"
      },
      "execution_count": null,
      "outputs": []
    },
    {
      "cell_type": "code",
      "source": [
        "df.asjc_codes = df.asjc_codes.map(lambda x: [int(i) for i in eval(x)])"
      ],
      "metadata": {
        "id": "2jYB6iXEDJsV"
      },
      "execution_count": null,
      "outputs": []
    },
    {
      "cell_type": "code",
      "source": [
        "code_counts = count_values(df.asjc_codes.to_list())\n",
        "cat_counts = {code2cat[key]: value for key, value in code_counts.items()}"
      ],
      "metadata": {
        "id": "1AWwjcSm4vV4"
      },
      "execution_count": null,
      "outputs": []
    },
    {
      "cell_type": "code",
      "source": [
        "threshold = int(len(df) * 0.01)\n",
        "rare_cats = [key for key, value in cat_counts.items() if value < threshold]\n",
        "len(rare_cats), rare_cats[:5]"
      ],
      "metadata": {
        "colab": {
          "base_uri": "https://localhost:8080/"
        },
        "id": "VYzjdrnJBX3t",
        "outputId": "e9978290-8d78-4ed1-eeee-2c5ebf34f99e"
      },
      "execution_count": null,
      "outputs": [
        {
          "output_type": "execute_result",
          "data": {
            "text/plain": [
              "(222,\n",
              " ['General Psychology',\n",
              "  'General Veterinary',\n",
              "  'Pediatrics, Perinatology and Child Health',\n",
              "  'Neurology (clinical)',\n",
              "  'Cell Biology'])"
            ]
          },
          "metadata": {},
          "execution_count": 13
        }
      ]
    },
    {
      "cell_type": "code",
      "source": [
        "revised_cats = [key for key, value in cat_counts.items() if value >= threshold]\n",
        "len(revised_cats), revised_cats[:5]"
      ],
      "metadata": {
        "id": "iYc0PX_vCGLM"
      },
      "execution_count": null,
      "outputs": []
    },
    {
      "cell_type": "code",
      "source": [
        "revised_cat_list = []\n",
        "indices_to_drop = []\n",
        "\n",
        "for idx, code_list in enumerate(df.asjc_codes.to_list()):\n",
        "  categories = []\n",
        "\n",
        "  for code in code_list:\n",
        "    if code2cat[code] not in rare_cats:\n",
        "      categories.append(code)\n",
        "\n",
        "  if len(categories) == 0:\n",
        "    indices_to_drop.append(idx)\n",
        "  else:\n",
        "    revised_cat_list.append(categories)"
      ],
      "metadata": {
        "id": "2blHB-yZJaR0"
      },
      "execution_count": null,
      "outputs": []
    },
    {
      "cell_type": "code",
      "source": [
        "len(revised_cat_list)"
      ],
      "metadata": {
        "colab": {
          "base_uri": "https://localhost:8080/"
        },
        "id": "gaFr7C6IKkQc",
        "outputId": "60d71e4a-e251-449a-fb64-712908f340ec"
      },
      "execution_count": null,
      "outputs": [
        {
          "output_type": "execute_result",
          "data": {
            "text/plain": [
              "31416"
            ]
          },
          "metadata": {},
          "execution_count": 16
        }
      ]
    },
    {
      "cell_type": "code",
      "source": [
        "df.reset_index(drop=True, inplace=True)"
      ],
      "metadata": {
        "id": "bzrIWEKXbQC2"
      },
      "execution_count": null,
      "outputs": []
    },
    {
      "cell_type": "code",
      "source": [
        "df = df.drop(indices_to_drop).reset_index(drop=True)\n",
        "df.shape"
      ],
      "metadata": {
        "colab": {
          "base_uri": "https://localhost:8080/"
        },
        "id": "HXyWubJKJavu",
        "outputId": "9f8ae300-20f5-4236-c2fc-62ba3095d529"
      },
      "execution_count": null,
      "outputs": [
        {
          "output_type": "execute_result",
          "data": {
            "text/plain": [
              "(31416, 4)"
            ]
          },
          "metadata": {},
          "execution_count": 18
        }
      ]
    },
    {
      "cell_type": "code",
      "source": [
        "df['revised_categories'] = revised_cat_list"
      ],
      "metadata": {
        "id": "x2rgygadM5h4"
      },
      "execution_count": null,
      "outputs": []
    },
    {
      "cell_type": "code",
      "source": [
        "df.info()"
      ],
      "metadata": {
        "colab": {
          "base_uri": "https://localhost:8080/"
        },
        "id": "Kqp1mvVteVPh",
        "outputId": "04b20c99-c60b-48cd-b806-239fd1cff6e5"
      },
      "execution_count": null,
      "outputs": [
        {
          "output_type": "stream",
          "name": "stdout",
          "text": [
            "<class 'pandas.core.frame.DataFrame'>\n",
            "RangeIndex: 31416 entries, 0 to 31415\n",
            "Data columns (total 5 columns):\n",
            " #   Column              Non-Null Count  Dtype \n",
            "---  ------              --------------  ----- \n",
            " 0   journal             31416 non-null  object\n",
            " 1   title               31416 non-null  object\n",
            " 2   abstract            31416 non-null  object\n",
            " 3   asjc_codes          31416 non-null  object\n",
            " 4   revised_categories  31416 non-null  object\n",
            "dtypes: object(5)\n",
            "memory usage: 1.2+ MB\n"
          ]
        }
      ]
    },
    {
      "cell_type": "code",
      "source": [
        "df.describe()"
      ],
      "metadata": {
        "id": "X4vHOFaHebbl"
      },
      "execution_count": null,
      "outputs": []
    },
    {
      "cell_type": "code",
      "source": [
        "revised_categories_count = count_values(df.revised_categories)"
      ],
      "metadata": {
        "id": "znsbIaCwX3Lv"
      },
      "execution_count": null,
      "outputs": []
    },
    {
      "cell_type": "code",
      "source": [
        "categories_encoding = {key: idx for idx, (key, value) in enumerate(revised_categories_count.items())}"
      ],
      "metadata": {
        "id": "UooMQJtEgVS-"
      },
      "execution_count": null,
      "outputs": []
    },
    {
      "cell_type": "code",
      "source": [
        "categorical_list = []\n",
        "revised_categories_list = df.revised_categories.to_list()\n",
        "\n",
        "for revised_categories in revised_categories_list:\n",
        "  temp = [0] * len(categories_encoding)\n",
        "  for genre in revised_categories:\n",
        "    index = categories_encoding[genre]\n",
        "    temp[index] = 1\n",
        "  categorical_list.append(temp)"
      ],
      "metadata": {
        "id": "sYPx4LjLh2LT"
      },
      "execution_count": null,
      "outputs": []
    },
    {
      "cell_type": "code",
      "source": [
        "df['text'] = df.title.astype(str) + \". \\n\" + df.abstract.astype(str)"
      ],
      "metadata": {
        "id": "Yo7iPBaGDQHn"
      },
      "execution_count": null,
      "outputs": []
    },
    {
      "cell_type": "code",
      "source": [
        "df['label'] = categorical_list"
      ],
      "metadata": {
        "id": "Du9PwzW4inVI"
      },
      "execution_count": null,
      "outputs": []
    },
    {
      "cell_type": "code",
      "source": [
        "df.head()"
      ],
      "metadata": {
        "id": "0zEQzj1sinX3"
      },
      "execution_count": null,
      "outputs": []
    },
    {
      "cell_type": "markdown",
      "source": [
        "### Save data"
      ],
      "metadata": {
        "id": "kW7tdQbfWYSI"
      }
    },
    {
      "cell_type": "code",
      "source": [
        "df.to_csv('/content/drive/MyDrive/Manuscript-Matcher/labelled_data.csv', index=False)"
      ],
      "metadata": {
        "id": "MYt_HOQzWWsb"
      },
      "execution_count": null,
      "outputs": []
    },
    {
      "cell_type": "markdown",
      "source": [
        "# Dataloaders and Modeling"
      ],
      "metadata": {
        "id": "06WkwjMqtgXI"
      }
    },
    {
      "cell_type": "code",
      "source": [
        "labels = [code2cat[cat] for cat in list(categories_encoding.keys())]"
      ],
      "metadata": {
        "id": "liFhY9JithBx"
      },
      "execution_count": null,
      "outputs": []
    },
    {
      "cell_type": "code",
      "source": [
        "model_name = \"distilroberta-base\"\n",
        "model_cls = AutoModelForSequenceClassification\n",
        "config = AutoConfig.from_pretrained(model_name)\n",
        "config.num_labels = len(labels)\n",
        "\n",
        "hf_arch, hf_config, hf_tokenizer, hf_model = get_hf_objects(model_name, model_cls=model_cls, config=config)\n",
        "hf_model.config.problem_type = \"multi_label_classification\""
      ],
      "metadata": {
        "id": "9iJ7B1UTtl91"
      },
      "execution_count": null,
      "outputs": []
    },
    {
      "cell_type": "code",
      "source": [
        "labels"
      ],
      "metadata": {
        "id": "X5NfHrigFiSY"
      },
      "execution_count": null,
      "outputs": []
    },
    {
      "cell_type": "code",
      "source": [
        "blocks = (TextBlock(hf_arch, hf_config, hf_tokenizer, hf_model), MultiCategoryBlock(encoded=True, vocab=labels))\n",
        "dblock = DataBlock(blocks=blocks, get_x=ColReader('text'), get_y=ColReader('label'), splitter=RandomSplitter(valid_pct=0.1, seed=7))"
      ],
      "metadata": {
        "id": "f6WjYlbmtmA1"
      },
      "execution_count": null,
      "outputs": []
    },
    {
      "cell_type": "code",
      "source": [
        "dls = dblock.dataloaders(df, bs=32)"
      ],
      "metadata": {
        "id": "JTskxkIHkjKS"
      },
      "execution_count": null,
      "outputs": []
    },
    {
      "cell_type": "code",
      "source": [
        "torch.save(dls, \"dataloaders/dls-manuscript-matcher.pkl\")"
      ],
      "metadata": {
        "id": "B_egIudTF404"
      },
      "execution_count": null,
      "outputs": []
    },
    {
      "cell_type": "code",
      "source": [
        "dls.vocab"
      ],
      "metadata": {
        "id": "1yfXRrQSkjNP",
        "colab": {
          "base_uri": "https://localhost:8080/"
        },
        "outputId": "d8a9c4d3-e805-48a9-8d74-09120b0c3f55"
      },
      "execution_count": null,
      "outputs": [
        {
          "output_type": "execute_result",
          "data": {
            "text/plain": [
              "['Cancer Research', 'Oncology', 'General Medicine', 'Public Health, Environmental and Occupational Health', 'Neurology', 'General Earth and Planetary Sciences', 'Infectious Diseases', 'Microbiology (medical)', 'Immunology', 'Microbiology', 'Biomedical Engineering', 'Biotechnology', 'Atomic and Molecular Physics, and Optics', 'General Physics and Astronomy', 'Renewable Energy, Sustainability and the Environment', 'General Biochemistry, Genetics and Molecular Biology', 'General Neuroscience', 'Radiology, Nuclear Medicine and Imaging', 'Social Psychology', 'Endocrinology, Diabetes and Metabolism', 'Pharmacology (medical)', 'Genetics', 'Molecular Medicine', 'Plant Science', 'Ecology', 'Ecology, Evolution, Behavior and Systematics', 'Molecular Biology', 'Biochemistry', 'Physical and Theoretical Chemistry', 'General Environmental Science', 'General Chemistry', 'Management, Monitoring, Policy and Law', 'Food Science', 'Computer Science Applications', 'Surgery', 'Pharmaceutical Science', 'Nutrition and Dietetics', 'Cognitive Neuroscience', 'Multidisciplinary', 'General Agricultural and Biological Sciences', 'Mechanical Engineering', 'Mechanics of Materials', 'Civil and Structural Engineering', 'Control and Systems Engineering', 'General Mathematics', 'Electrical and Electronic Engineering', 'Instrumentation', 'Building and Construction', 'Geography, Planning and Development', 'General Materials Science', 'Organic Chemistry', 'Materials Chemistry', 'Ceramics and Composites', 'Education', 'Virology', 'Medicine (miscellaneous)', 'Clinical Biochemistry', 'Surfaces, Coatings and Films', 'Electronic, Optical and Magnetic Materials', 'Chemistry (miscellaneous)', 'Biomaterials', 'Strategy and Management', 'Cultural Studies', 'Polymers and Plastics', 'Metals and Alloys', 'General Chemical Engineering', 'Analytical Chemistry', 'Drug Discovery', 'Engineering (miscellaneous)', 'Computer Science (miscellaneous)', 'Catalysis', 'Applied Psychology']"
            ]
          },
          "metadata": {},
          "execution_count": 75
        }
      ]
    },
    {
      "cell_type": "code",
      "source": [
        "dls.show_batch(dataloaders=dls, max_n=4, trunc_at=512)"
      ],
      "metadata": {
        "id": "QrQnx_KfkjpR",
        "colab": {
          "base_uri": "https://localhost:8080/",
          "height": 400
        },
        "outputId": "22f70dfc-5999-46de-ed4e-bb0d15da96fe"
      },
      "execution_count": null,
      "outputs": [
        {
          "output_type": "display_data",
          "data": {
            "text/plain": [
              "<IPython.core.display.HTML object>"
            ],
            "text/html": [
              "<table border=\"1\" class=\"dataframe\">\n",
              "  <thead>\n",
              "    <tr style=\"text-align: right;\">\n",
              "      <th></th>\n",
              "      <th>text</th>\n",
              "      <th>target</th>\n",
              "    </tr>\n",
              "  </thead>\n",
              "  <tbody>\n",
              "    <tr>\n",
              "      <th>0</th>\n",
              "      <td>Simulation-enhanced lean design process. \\n&lt;!--[if gte mso 9]&gt;&lt;xml&gt; &lt;o:OfficeDocumentSettings&gt; &lt;o:PixelsPerInch&gt;72&lt;/o:PixelsPerInch&gt; &lt;/o:OfficeDocumentSettings&gt; &lt;/xml&gt;&lt;![endif]--&gt;&lt;!--[if gte mso 9]&gt;&lt;xml&gt; &lt;w:WordDocument&gt; &lt;w:View&gt;Normal&lt;/w:View&gt; &lt;w:Zoom&gt;0&lt;/w:Zoom&gt; &lt;w:TrackMoves/&gt; &lt;w:TrackFormatting/&gt; &lt;w:PunctuationKerning/&gt; &lt;w:ValidateAgainstSchemas/&gt; &lt;w:SaveIfXMLInvalid&gt;false&lt;/w:SaveIfXMLInvalid&gt; &lt;w:IgnoreMixedContent&gt;false&lt;/w:IgnoreMixedContent&gt; &lt;w:AlwaysShowPlaceholderText&gt;false&lt;/w:AlwaysShowPlaceholderTe</td>\n",
              "      <td>[Strategy and Management]</td>\n",
              "    </tr>\n",
              "    <tr>\n",
              "      <th>1</th>\n",
              "      <td>Ultradian rhythms in shell composition of photosymbiotic and non-photosymbiotic mollusks. \\n&lt;p&gt;The chemical composition of mollusk shells is a useful tool in (paleo)climatology since it captures inter- and intra-annual variability in environmental conditions. Trace element and stable isotope analysis with improved sampling resolution now allows in situ determination of the composition of mollusk shell volumes precipitated at daily to sub-daily time intervals. Here, we discuss hourly resolved Mg &lt;span class=</td>\n",
              "      <td>[Ecology, Evolution, Behavior and Systematics]</td>\n",
              "    </tr>\n",
              "    <tr>\n",
              "      <th>2</th>\n",
              "      <td>Finding a Novel Chalcone–Cinnamic Acid Chimeric Compound with Antiproliferative Activity against MCF-7 Cell Line Using a Free-Wilson Type Approach. \\nIn this work, we carried out the design and synthesis of new chimeric compounds from the natural cytotoxic chalcone 2′,4′-dihydroxychalcone (2′,4′-DHC, &lt;b&gt;A&lt;/b&gt;) in combination with cinnamic acids. For this purpose, a descriptive and predictive quantitative structure–activity relationship (QSAR) model was developed to study the chimeric compounds’ anti-cancer</td>\n",
              "      <td>[Molecular Medicine, Physical and Theoretical Chemistry, Pharmaceutical Science, Organic Chemistry, Chemistry (miscellaneous), Analytical Chemistry, Drug Discovery]</td>\n",
              "    </tr>\n",
              "    <tr>\n",
              "      <th>3</th>\n",
              "      <td>Ригидность сердечного ритма у больных с инфарктом миокарда. \\nНеобходимость наблюдения за ритмом сердца у больных c ИМ общепризнана, при этом исключительно важное значение имеет своевременное предупреждение тяжелых осложнений и внезапной смерти. Анализ ВСР признан наиболее информативным методом неинвазивной оценки состояния автономной нервной системы в клинической практике. Основанный на изучении изменчивости продолжительности R-R интервалов за определенные промеж</td>\n",
              "      <td>[Education]</td>\n",
              "    </tr>\n",
              "  </tbody>\n",
              "</table>"
            ]
          },
          "metadata": {}
        }
      ]
    },
    {
      "cell_type": "markdown",
      "source": [
        "# Model Training"
      ],
      "metadata": {
        "id": "vcX5CIBAFQ-W"
      }
    },
    {
      "cell_type": "code",
      "source": [
        "model = BaseModelWrapper(hf_model)\n",
        "\n",
        "acc_02 = partial(accuracy_multi, thresh=0.2)\n",
        "\n",
        "learner = Learner(dls,\n",
        "                  model,\n",
        "                  opt_func=partial(OptimWrapper, opt=torch.optim.AdamW),\n",
        "                  loss_func=BCEWithLogitsLossFlat(),\n",
        "                  metrics=[acc_02],\n",
        "                  cbs=[BaseModelCallback],\n",
        "                  splitter=blurr_splitter\n",
        "                  ).to_fp16()"
      ],
      "metadata": {
        "id": "g8Rpc9fBkjsm"
      },
      "execution_count": null,
      "outputs": []
    },
    {
      "cell_type": "markdown",
      "source": [
        "## Stage 0"
      ],
      "metadata": {
        "id": "mPOK3NHLGJE_"
      }
    },
    {
      "cell_type": "code",
      "source": [
        "learner.freeze()"
      ],
      "metadata": {
        "id": "tqRO7IPlFZnE"
      },
      "execution_count": null,
      "outputs": []
    },
    {
      "cell_type": "code",
      "source": [
        "learner.lr_find(suggest_funcs=[slide, valley])"
      ],
      "metadata": {
        "colab": {
          "base_uri": "https://localhost:8080/",
          "height": 471
        },
        "id": "S47hx1VQFZps",
        "outputId": "042b6608-b441-43ec-8fc0-5f4e1cee679f"
      },
      "execution_count": null,
      "outputs": [
        {
          "output_type": "display_data",
          "data": {
            "text/plain": [
              "<IPython.core.display.HTML object>"
            ],
            "text/html": [
              "\n",
              "<style>\n",
              "    /* Turns off some styling */\n",
              "    progress {\n",
              "        /* gets rid of default border in Firefox and Opera. */\n",
              "        border: none;\n",
              "        /* Needs to be in here for Safari polyfill so background images work as expected. */\n",
              "        background-size: auto;\n",
              "    }\n",
              "    progress:not([value]), progress:not([value])::-webkit-progress-bar {\n",
              "        background: repeating-linear-gradient(45deg, #7e7e7e, #7e7e7e 10px, #5c5c5c 10px, #5c5c5c 20px);\n",
              "    }\n",
              "    .progress-bar-interrupted, .progress-bar-interrupted::-webkit-progress-bar {\n",
              "        background: #F44336;\n",
              "    }\n",
              "</style>\n"
            ]
          },
          "metadata": {}
        },
        {
          "output_type": "display_data",
          "data": {
            "text/plain": [
              "<IPython.core.display.HTML object>"
            ],
            "text/html": []
          },
          "metadata": {}
        },
        {
          "output_type": "execute_result",
          "data": {
            "text/plain": [
              "SuggestedLRs(slide=0.0010000000474974513, valley=0.0002290867705596611)"
            ]
          },
          "metadata": {},
          "execution_count": 79
        },
        {
          "output_type": "display_data",
          "data": {
            "text/plain": [
              "<Figure size 640x480 with 1 Axes>"
            ],
            "image/png": "[encoded data removed]"
          },
          "metadata": {}
        }
      ]
    },
    {
      "cell_type": "code",
      "source": [
        "learner.fit_one_cycle(2, 6.15e-4)"
      ],
      "metadata": {
        "colab": {
          "base_uri": "https://localhost:8080/",
          "height": 112
        },
        "id": "uDvIQhFIGKsU",
        "outputId": "65e68b01-d8d9-489b-ff71-eb50b67261a5"
      },
      "execution_count": null,
      "outputs": [
        {
          "output_type": "display_data",
          "data": {
            "text/plain": [
              "<IPython.core.display.HTML object>"
            ],
            "text/html": [
              "\n",
              "<style>\n",
              "    /* Turns off some styling */\n",
              "    progress {\n",
              "        /* gets rid of default border in Firefox and Opera. */\n",
              "        border: none;\n",
              "        /* Needs to be in here for Safari polyfill so background images work as expected. */\n",
              "        background-size: auto;\n",
              "    }\n",
              "    progress:not([value]), progress:not([value])::-webkit-progress-bar {\n",
              "        background: repeating-linear-gradient(45deg, #7e7e7e, #7e7e7e 10px, #5c5c5c 10px, #5c5c5c 20px);\n",
              "    }\n",
              "    .progress-bar-interrupted, .progress-bar-interrupted::-webkit-progress-bar {\n",
              "        background: #F44336;\n",
              "    }\n",
              "</style>\n"
            ]
          },
          "metadata": {}
        },
        {
          "output_type": "display_data",
          "data": {
            "text/plain": [
              "<IPython.core.display.HTML object>"
            ],
            "text/html": [
              "<table border=\"1\" class=\"dataframe\">\n",
              "  <thead>\n",
              "    <tr style=\"text-align: left;\">\n",
              "      <th>epoch</th>\n",
              "      <th>train_loss</th>\n",
              "      <th>valid_loss</th>\n",
              "      <th>accuracy_multi</th>\n",
              "      <th>time</th>\n",
              "    </tr>\n",
              "  </thead>\n",
              "  <tbody>\n",
              "    <tr>\n",
              "      <td>0</td>\n",
              "      <td>0.080172</td>\n",
              "      <td>0.078093</td>\n",
              "      <td>0.959549</td>\n",
              "      <td>05:26</td>\n",
              "    </tr>\n",
              "    <tr>\n",
              "      <td>1</td>\n",
              "      <td>0.072363</td>\n",
              "      <td>0.070163</td>\n",
              "      <td>0.964904</td>\n",
              "      <td>05:26</td>\n",
              "    </tr>\n",
              "  </tbody>\n",
              "</table>"
            ]
          },
          "metadata": {}
        }
      ]
    },
    {
      "cell_type": "code",
      "source": [
        "learner.save(\"manuscript-matcher-stage-0\")"
      ],
      "metadata": {
        "colab": {
          "base_uri": "https://localhost:8080/"
        },
        "id": "t1voakwgGKvc",
        "outputId": "904abc9a-50da-49cf-99a2-ac3dfc197171"
      },
      "execution_count": null,
      "outputs": [
        {
          "output_type": "execute_result",
          "data": {
            "text/plain": [
              "Path('models/manuscript-matcher-stage-0.pth')"
            ]
          },
          "metadata": {},
          "execution_count": 83
        }
      ]
    },
    {
      "cell_type": "code",
      "source": [
        "learner.export(\"models/manuscript-matcher-stage-0.pkl\")"
      ],
      "metadata": {
        "id": "YtBx2MJ9GKzA"
      },
      "execution_count": null,
      "outputs": []
    },
    {
      "cell_type": "markdown",
      "source": [
        "## Stage 1"
      ],
      "metadata": {
        "id": "_2ILkID2HTnG"
      }
    },
    {
      "cell_type": "code",
      "source": [
        "# learner.load(\"manuscript-matcher-stage-0\")"
      ],
      "metadata": {
        "id": "agfWqQhXGK7f"
      },
      "execution_count": null,
      "outputs": []
    },
    {
      "cell_type": "code",
      "source": [
        "learner.unfreeze()"
      ],
      "metadata": {
        "id": "My5-Vj_AHY0t"
      },
      "execution_count": null,
      "outputs": []
    },
    {
      "cell_type": "code",
      "source": [
        "learner.lr_find(suggest_funcs=[slide, valley])"
      ],
      "metadata": {
        "colab": {
          "base_uri": "https://localhost:8080/",
          "height": 471
        },
        "id": "B1BOndW1HY4O",
        "outputId": "e5d039b1-bbd6-489b-cf00-db36aa1a5c7d"
      },
      "execution_count": null,
      "outputs": [
        {
          "output_type": "display_data",
          "data": {
            "text/plain": [
              "<IPython.core.display.HTML object>"
            ],
            "text/html": [
              "\n",
              "<style>\n",
              "    /* Turns off some styling */\n",
              "    progress {\n",
              "        /* gets rid of default border in Firefox and Opera. */\n",
              "        border: none;\n",
              "        /* Needs to be in here for Safari polyfill so background images work as expected. */\n",
              "        background-size: auto;\n",
              "    }\n",
              "    progress:not([value]), progress:not([value])::-webkit-progress-bar {\n",
              "        background: repeating-linear-gradient(45deg, #7e7e7e, #7e7e7e 10px, #5c5c5c 10px, #5c5c5c 20px);\n",
              "    }\n",
              "    .progress-bar-interrupted, .progress-bar-interrupted::-webkit-progress-bar {\n",
              "        background: #F44336;\n",
              "    }\n",
              "</style>\n"
            ]
          },
          "metadata": {}
        },
        {
          "output_type": "display_data",
          "data": {
            "text/plain": [
              "<IPython.core.display.HTML object>"
            ],
            "text/html": []
          },
          "metadata": {}
        },
        {
          "output_type": "execute_result",
          "data": {
            "text/plain": [
              "SuggestedLRs(slide=0.0012022644514217973, valley=8.31763736641733e-06)"
            ]
          },
          "metadata": {},
          "execution_count": 86
        },
        {
          "output_type": "display_data",
          "data": {
            "text/plain": [
              "<Figure size 640x480 with 1 Axes>"
            ],
            "image/png": "[encoded data removed]"
          },
          "metadata": {}
        }
      ]
    },
    {
      "cell_type": "code",
      "source": [
        "learner.fit_one_cycle(3, slice(8.1e-3, 8.5e-6))"
      ],
      "metadata": {
        "colab": {
          "base_uri": "https://localhost:8080/",
          "height": 143
        },
        "id": "pXyc1WQuHjNQ",
        "outputId": "b88d922f-e8a1-40c8-c402-9a8a9e63a7c9"
      },
      "execution_count": null,
      "outputs": [
        {
          "output_type": "display_data",
          "data": {
            "text/plain": [
              "<IPython.core.display.HTML object>"
            ],
            "text/html": [
              "\n",
              "<style>\n",
              "    /* Turns off some styling */\n",
              "    progress {\n",
              "        /* gets rid of default border in Firefox and Opera. */\n",
              "        border: none;\n",
              "        /* Needs to be in here for Safari polyfill so background images work as expected. */\n",
              "        background-size: auto;\n",
              "    }\n",
              "    progress:not([value]), progress:not([value])::-webkit-progress-bar {\n",
              "        background: repeating-linear-gradient(45deg, #7e7e7e, #7e7e7e 10px, #5c5c5c 10px, #5c5c5c 20px);\n",
              "    }\n",
              "    .progress-bar-interrupted, .progress-bar-interrupted::-webkit-progress-bar {\n",
              "        background: #F44336;\n",
              "    }\n",
              "</style>\n"
            ]
          },
          "metadata": {}
        },
        {
          "output_type": "display_data",
          "data": {
            "text/plain": [
              "<IPython.core.display.HTML object>"
            ],
            "text/html": [
              "<table border=\"1\" class=\"dataframe\">\n",
              "  <thead>\n",
              "    <tr style=\"text-align: left;\">\n",
              "      <th>epoch</th>\n",
              "      <th>train_loss</th>\n",
              "      <th>valid_loss</th>\n",
              "      <th>accuracy_multi</th>\n",
              "      <th>time</th>\n",
              "    </tr>\n",
              "  </thead>\n",
              "  <tbody>\n",
              "    <tr>\n",
              "      <td>0</td>\n",
              "      <td>0.081550</td>\n",
              "      <td>0.075722</td>\n",
              "      <td>0.965187</td>\n",
              "      <td>06:27</td>\n",
              "    </tr>\n",
              "    <tr>\n",
              "      <td>1</td>\n",
              "      <td>0.065886</td>\n",
              "      <td>0.067280</td>\n",
              "      <td>0.967319</td>\n",
              "      <td>06:29</td>\n",
              "    </tr>\n",
              "    <tr>\n",
              "      <td>2</td>\n",
              "      <td>0.048867</td>\n",
              "      <td>0.064351</td>\n",
              "      <td>0.970109</td>\n",
              "      <td>06:27</td>\n",
              "    </tr>\n",
              "  </tbody>\n",
              "</table>"
            ]
          },
          "metadata": {}
        }
      ]
    },
    {
      "cell_type": "code",
      "source": [
        "learner.save(\"manuscript-matcher-stage-1\")"
      ],
      "metadata": {
        "colab": {
          "base_uri": "https://localhost:8080/"
        },
        "id": "XoVsTC8CHjQg",
        "outputId": "d014c87d-10b2-4249-86e6-15d430f84ff9"
      },
      "execution_count": null,
      "outputs": [
        {
          "output_type": "execute_result",
          "data": {
            "text/plain": [
              "Path('models/manuscript-matcher-stage-1.pth')"
            ]
          },
          "metadata": {},
          "execution_count": 88
        }
      ]
    },
    {
      "cell_type": "code",
      "source": [
        "learner.export(\"models/manuscript-matcher-stage-1.pkl\")"
      ],
      "metadata": {
        "id": "b6U7qggRHjUY"
      },
      "execution_count": null,
      "outputs": []
    },
    {
      "cell_type": "code",
      "source": [],
      "metadata": {
        "id": "gc_d6O6hK2Xa"
      },
      "execution_count": null,
      "outputs": []
    },
    {
      "cell_type": "markdown",
      "source": [
        "## Stage 2"
      ],
      "metadata": {
        "id": "05B0I9d2K40n"
      }
    },
    {
      "cell_type": "code",
      "source": [
        "# learner.load(\"manuscript-matcher-stage-1\")"
      ],
      "metadata": {
        "id": "eV8Kw8mCK40s"
      },
      "execution_count": null,
      "outputs": []
    },
    {
      "cell_type": "code",
      "source": [
        "learner.lr_find(suggest_funcs=[slide, valley])"
      ],
      "metadata": {
        "colab": {
          "base_uri": "https://localhost:8080/",
          "height": 471
        },
        "outputId": "bc68e3bf-6ba8-49dc-9c76-9c81f7f7079b",
        "id": "94XDe6S1K40t"
      },
      "execution_count": null,
      "outputs": [
        {
          "output_type": "display_data",
          "data": {
            "text/plain": [
              "<IPython.core.display.HTML object>"
            ],
            "text/html": [
              "\n",
              "<style>\n",
              "    /* Turns off some styling */\n",
              "    progress {\n",
              "        /* gets rid of default border in Firefox and Opera. */\n",
              "        border: none;\n",
              "        /* Needs to be in here for Safari polyfill so background images work as expected. */\n",
              "        background-size: auto;\n",
              "    }\n",
              "    progress:not([value]), progress:not([value])::-webkit-progress-bar {\n",
              "        background: repeating-linear-gradient(45deg, #7e7e7e, #7e7e7e 10px, #5c5c5c 10px, #5c5c5c 20px);\n",
              "    }\n",
              "    .progress-bar-interrupted, .progress-bar-interrupted::-webkit-progress-bar {\n",
              "        background: #F44336;\n",
              "    }\n",
              "</style>\n"
            ]
          },
          "metadata": {}
        },
        {
          "output_type": "display_data",
          "data": {
            "text/plain": [
              "<IPython.core.display.HTML object>"
            ],
            "text/html": []
          },
          "metadata": {}
        },
        {
          "output_type": "execute_result",
          "data": {
            "text/plain": [
              "SuggestedLRs(slide=0.0005754399462603033, valley=3.0199516913853586e-05)"
            ]
          },
          "metadata": {},
          "execution_count": 99
        },
        {
          "output_type": "display_data",
          "data": {
            "text/plain": [
              "<Figure size 640x480 with 1 Axes>"
            ],
            "image/png": "[encoded data removed]"
          },
          "metadata": {}
        }
      ]
    },
    {
      "cell_type": "code",
      "source": [
        "learner.fit_one_cycle(5, slice(1e-4, 6.9e-6))"
      ],
      "metadata": {
        "colab": {
          "base_uri": "https://localhost:8080/",
          "height": 206
        },
        "outputId": "8bd7b493-daac-4b5d-d767-ecb67810a450",
        "id": "b9DCq9vPK40t"
      },
      "execution_count": null,
      "outputs": [
        {
          "output_type": "display_data",
          "data": {
            "text/plain": [
              "<IPython.core.display.HTML object>"
            ],
            "text/html": [
              "\n",
              "<style>\n",
              "    /* Turns off some styling */\n",
              "    progress {\n",
              "        /* gets rid of default border in Firefox and Opera. */\n",
              "        border: none;\n",
              "        /* Needs to be in here for Safari polyfill so background images work as expected. */\n",
              "        background-size: auto;\n",
              "    }\n",
              "    progress:not([value]), progress:not([value])::-webkit-progress-bar {\n",
              "        background: repeating-linear-gradient(45deg, #7e7e7e, #7e7e7e 10px, #5c5c5c 10px, #5c5c5c 20px);\n",
              "    }\n",
              "    .progress-bar-interrupted, .progress-bar-interrupted::-webkit-progress-bar {\n",
              "        background: #F44336;\n",
              "    }\n",
              "</style>\n"
            ]
          },
          "metadata": {}
        },
        {
          "output_type": "display_data",
          "data": {
            "text/plain": [
              "<IPython.core.display.HTML object>"
            ],
            "text/html": [
              "<table border=\"1\" class=\"dataframe\">\n",
              "  <thead>\n",
              "    <tr style=\"text-align: left;\">\n",
              "      <th>epoch</th>\n",
              "      <th>train_loss</th>\n",
              "      <th>valid_loss</th>\n",
              "      <th>accuracy_multi</th>\n",
              "      <th>time</th>\n",
              "    </tr>\n",
              "  </thead>\n",
              "  <tbody>\n",
              "    <tr>\n",
              "      <td>0</td>\n",
              "      <td>0.041487</td>\n",
              "      <td>0.065719</td>\n",
              "      <td>0.970272</td>\n",
              "      <td>06:18</td>\n",
              "    </tr>\n",
              "    <tr>\n",
              "      <td>1</td>\n",
              "      <td>0.039102</td>\n",
              "      <td>0.066993</td>\n",
              "      <td>0.970842</td>\n",
              "      <td>06:26</td>\n",
              "    </tr>\n",
              "    <tr>\n",
              "      <td>2</td>\n",
              "      <td>0.033921</td>\n",
              "      <td>0.068315</td>\n",
              "      <td>0.970865</td>\n",
              "      <td>06:32</td>\n",
              "    </tr>\n",
              "    <tr>\n",
              "      <td>3</td>\n",
              "      <td>0.031619</td>\n",
              "      <td>0.068807</td>\n",
              "      <td>0.971316</td>\n",
              "      <td>06:37</td>\n",
              "    </tr>\n",
              "    <tr>\n",
              "      <td>4</td>\n",
              "      <td>0.030700</td>\n",
              "      <td>0.069039</td>\n",
              "      <td>0.971338</td>\n",
              "      <td>06:29</td>\n",
              "    </tr>\n",
              "  </tbody>\n",
              "</table>"
            ]
          },
          "metadata": {}
        }
      ]
    },
    {
      "cell_type": "code",
      "source": [
        "learner.save(\"manuscript-matcher-stage-2\")"
      ],
      "metadata": {
        "colab": {
          "base_uri": "https://localhost:8080/"
        },
        "id": "Bk2HHySnK40t",
        "outputId": "20eede4b-362a-4cb9-ba40-358f91984c5d"
      },
      "execution_count": null,
      "outputs": [
        {
          "output_type": "execute_result",
          "data": {
            "text/plain": [
              "Path('models/manuscript-matcher-stage-2.pth')"
            ]
          },
          "metadata": {},
          "execution_count": 93
        }
      ]
    },
    {
      "cell_type": "code",
      "source": [
        "learner.export(\"models/manuscript-matcher-stage-2.pkl\")"
      ],
      "metadata": {
        "id": "GKqsUJkpK40t"
      },
      "execution_count": null,
      "outputs": []
    },
    {
      "cell_type": "code",
      "source": [],
      "metadata": {
        "id": "lBPjTQWHRue3"
      },
      "execution_count": null,
      "outputs": []
    }
  ]
}